{
  "nbformat": 4,
  "nbformat_minor": 0,
  "metadata": {
    "colab": {
      "provenance": [],
      "authorship_tag": "ABX9TyNG7i1MxJCfUeKBVwEzmglt",
      "include_colab_link": true
    },
    "kernelspec": {
      "name": "python3",
      "display_name": "Python 3"
    },
    "language_info": {
      "name": "python"
    }
  },
  "cells": [
    {
      "cell_type": "markdown",
      "metadata": {
        "id": "view-in-github",
        "colab_type": "text"
      },
      "source": [
        "<a href=\"https://colab.research.google.com/github/yuhrtm/taime_python/blob/main/1224_01.ipynb\" target=\"_parent\"><img src=\"https://colab.research.google.com/assets/colab-badge.svg\" alt=\"Open In Colab\"/></a>"
      ]
    },
    {
      "cell_type": "code",
      "source": [],
      "metadata": {
        "id": "-lTm4cidg3pg"
      },
      "execution_count": null,
      "outputs": []
    },
    {
      "cell_type": "markdown",
      "source": [
        "bmi程式\n",
        "1. 可以自由輸入身高體重\n",
        "2. 計算bmi\n",
        "3. 給予建議\n",
        "\n",
        "學習重點：\n",
        "1. 註解 #\n",
        "  a. 可讀性\n",
        "  b.\n",
        "2. 功能：參數print(參數)\n",
        "\n",
        "3. 排版\n",
        "\n",
        "4. 不要重複寫\n",
        "\n",
        "5. 型態（Type）\n"
      ],
      "metadata": {
        "id": "_oMB4hj9l15T"
      }
    },
    {
      "cell_type": "code",
      "source": [
        "#bmi = weight(kg) / height(m) ^ 2\n",
        "\n",
        "\n",
        "input_weight = float(input(\"請輸入體重(kg)：\"))\n",
        "input_height = float(input(\"請輸入身高(cm)：\"))\n",
        "\n",
        "bmi = (input_weight / (input_height / 100) ** 2)\n",
        "\n",
        "print(\"您的體重是：\" + str(input_weight) + \"公斤\")\n",
        "print(\"您的身高是：\" + str(input_height) + \"公分\")\n",
        "print(\"您的bmi是：\" + str(bmi))\n",
        "\n",
        "\n",
        "if bmi > 25:\n",
        "\n",
        "  print(\"過重\")\n",
        "  print(\"死肥豬\")\n",
        "else:\n",
        "  print(\"正常範圍\")\n",
        "  print(\"繼續保持\")\n"
      ],
      "metadata": {
        "colab": {
          "base_uri": "https://localhost:8080/"
        },
        "id": "0myifHVwm8os",
        "outputId": "3e37ca13-fa9b-4a8c-89dd-508ba73aa47f"
      },
      "execution_count": 13,
      "outputs": [
        {
          "output_type": "stream",
          "name": "stdout",
          "text": [
            "請輸入體重(kg)：105\n",
            "請輸入身高(cm)：183\n",
            "您的體重是：105公斤\n",
            "您的身高是：183公分\n",
            "您的bmi是：31.353578787064404\n",
            "過重\n",
            "死肥豬\n"
          ]
        }
      ]
    },
    {
      "cell_type": "code",
      "source": [
        "type(3.0)"
      ],
      "metadata": {
        "colab": {
          "base_uri": "https://localhost:8080/"
        },
        "id": "qgQhvlShu_p4",
        "outputId": "278ddbf2-6b61-4544-a35c-4dd768bc662b"
      },
      "execution_count": 8,
      "outputs": [
        {
          "output_type": "execute_result",
          "data": {
            "text/plain": [
              "float"
            ]
          },
          "metadata": {},
          "execution_count": 8
        }
      ]
    },
    {
      "cell_type": "markdown",
      "source": [
        "Latex Math 語法\n",
        "\n",
        "1/2\n",
        "\n",
        "$ a= \\sum_{i=0}^{n} \\frac{1}{n+1}$"
      ],
      "metadata": {
        "id": "UN-3CEgOhGYd"
      }
    },
    {
      "cell_type": "code",
      "execution_count": null,
      "metadata": {
        "colab": {
          "base_uri": "https://localhost:8080/"
        },
        "id": "rVw2K46Yaz6P",
        "outputId": "b98f97e2-54c0-4b2e-b199-74e4e680f672"
      },
      "outputs": [
        {
          "output_type": "stream",
          "name": "stdout",
          "text": [
            "hello world\n"
          ]
        }
      ],
      "source": [
        "print (\"hello world\")\n"
      ]
    }
  ]
}